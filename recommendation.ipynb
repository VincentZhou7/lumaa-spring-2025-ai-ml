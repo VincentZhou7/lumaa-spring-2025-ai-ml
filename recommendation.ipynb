{
 "cells": [
  {
   "cell_type": "code",
   "execution_count": 1,
   "id": "056f9bd4-18c6-4c59-8efb-03f69995a4d3",
   "metadata": {
    "tags": []
   },
   "outputs": [],
   "source": [
    "import pandas as pd\n",
    "from sklearn.feature_extraction.text import TfidfVectorizer\n",
    "from sklearn.metrics.pairwise import cosine_similarity\n",
    "\n",
    "# Load dataset\n",
    "def load_dataset():\n",
    "    movies_file = \"TMBD Movie Dataset.csv\"\n",
    "    # Read the movies data\n",
    "    movies = pd.read_csv(movies_file)\n",
    "    return movies"
   ]
  },
  {
   "cell_type": "code",
   "execution_count": 2,
   "id": "827ad660-f5d1-4740-be4f-04de1beaf8fc",
   "metadata": {
    "tags": []
   },
   "outputs": [],
   "source": [
    "# Preprocess data\n",
    "def preprocess_data(movies):\n",
    "    # Use 'overview' column for plot summaries\n",
    "    movies['content'] = movies['original_title'] + ' ' + movies['overview'].fillna('')\n",
    "    return movies"
   ]
  },
  {
   "cell_type": "code",
   "execution_count": 3,
   "id": "fc4ef0fc-aa64-4644-b230-1b061c34f0d2",
   "metadata": {
    "tags": []
   },
   "outputs": [],
   "source": [
    "# Vectorize using TF-IDF\n",
    "def vectorize_data(movies):\n",
    "    vectorizer = TfidfVectorizer(stop_words='english') \n",
    "    tfidf_matrix = vectorizer.fit_transform(movies['content'])\n",
    "    return tfidf_matrix, vectorizer"
   ]
  },
  {
   "cell_type": "code",
   "execution_count": 4,
   "id": "bf7b6469-b475-46d5-950d-fa1a79c558d1",
   "metadata": {
    "tags": []
   },
   "outputs": [],
   "source": [
    "# Generate recommendations according to cosine similarity\n",
    "def recommend_movies(query, movies, tfidf_matrix, vectorizer, top_n=5):\n",
    "    query_vec = vectorizer.transform([query])\n",
    "    # calculate similarity between the query and each movie's content\n",
    "    similarity_scores = cosine_similarity(query_vec, tfidf_matrix).flatten()\n",
    "    # get the top movies with the highest similarity scores\n",
    "    top_indices = similarity_scores.argsort()[-top_n:][::-1]\n",
    "    # keep the necessary columns for recommendation results\n",
    "    recommendations = movies.iloc[top_indices][['original_title', 'overview']]\n",
    "    recommendations['similarity'] = similarity_scores[top_indices]\n",
    "    return recommendations"
   ]
  },
  {
   "cell_type": "code",
   "execution_count": 5,
   "id": "82552d08-800d-47dc-9c1c-bf8145166a43",
   "metadata": {
    "tags": []
   },
   "outputs": [],
   "source": [
    "# Chain all the processes together\n",
    "def recommend_pipeline(query):\n",
    "    movies = load_dataset()\n",
    "    movies = preprocess_data(movies)\n",
    "    tfidf_matrix, vectorizer = vectorize_data(movies)\n",
    "    recommendations = recommend_movies(query, movies, tfidf_matrix, vectorizer)\n",
    "    # display each recommendation, including title, similarity with query, and the summary\n",
    "    print('Top', len(recommendations),'recommendations based on your query:')\n",
    "    for index, row in recommendations.iterrows():\n",
    "        print(row['original_title'], '(Similarity %.4f)' % row['similarity'])\n",
    "        print(row['overview'])\n",
    "        print('---')"
   ]
  },
  {
   "cell_type": "code",
   "execution_count": 6,
   "id": "b78412f3-242b-420f-9da2-f0b730fb48ff",
   "metadata": {
    "tags": []
   },
   "outputs": [
    {
     "name": "stdout",
     "output_type": "stream",
     "text": [
      "Top 5 recommendations based on your query:\n",
      "Showtime (Similarity 0.1580)\n",
      "A spoof of buddy cop movies where two very different cops are forced to team up on a new reality based T.V. cop show.\n",
      "---\n",
      "Insidious: Chapter 3 (Similarity 0.1214)\n",
      "A twisted new tale of terror begins for a teenage girl and her family, predating the haunting of the Lambert family in the earlier movies and revealing more mysteries of the otherworldly realm The Further.\n",
      "---\n",
      "Space Chimps (Similarity 0.1130)\n",
      "Circus monkey Ham III works in a circus where he's regularly shot from a canon but he still lives in the shadow of his father's legacy. A natural born rebel against authority, Ham III is initially reluctant to go on a dangerous space mission to rescue a lost space probe, but away he goes, for lots of RIGHT STUFF-style astro-training alongside two highly prepared chimps, Luna and Titan.\n",
      "---\n",
      "Iron Sky (Similarity 0.1077)\n",
      "In the last moments of World War II, a secret Nazi space program evaded destruction by fleeing to the Dark Side of the Moon. During 70 years of utter secrecy, the Nazis construct a gigantic space fortress with a massive armada of flying saucers.\n",
      "---\n",
      "You Only Live Twice (Similarity 0.1027)\n",
      "A mysterious space craft kidnaps a Russian and American space capsule and brings the world on the verge of another World War. James Bond investigates the case in Japan and meets with his archenemy Blofeld. The fifth film from the legendary James Bond series starring Sean Connery as the British super agent.\n",
      "---\n"
     ]
    }
   ],
   "source": [
    "# Example of usage\n",
    "query = \"I love thrilling action movies set in space, with a comedic twist.\"\n",
    "recommend_pipeline(query)"
   ]
  },
  {
   "cell_type": "code",
   "execution_count": null,
   "id": "7ba69ae7-3aa4-4130-9faf-0c8db2c0f99b",
   "metadata": {},
   "outputs": [],
   "source": []
  }
 ],
 "metadata": {
  "kernelspec": {
   "display_name": "Python 3 (ipykernel)",
   "language": "python",
   "name": "python3"
  },
  "language_info": {
   "codemirror_mode": {
    "name": "ipython",
    "version": 3
   },
   "file_extension": ".py",
   "mimetype": "text/x-python",
   "name": "python",
   "nbconvert_exporter": "python",
   "pygments_lexer": "ipython3",
   "version": "3.11.5"
  }
 },
 "nbformat": 4,
 "nbformat_minor": 5
}
